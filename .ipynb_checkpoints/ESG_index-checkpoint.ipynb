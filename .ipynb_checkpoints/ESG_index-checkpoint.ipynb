{
 "cells": [
  {
   "cell_type": "markdown",
   "id": "5ed82740-a8d4-499d-9e15-eb35af7f5b98",
   "metadata": {},
   "source": [
    "# Building an ESG index"
   ]
  },
  {
   "cell_type": "markdown",
   "id": "bcb71497-dda7-47b3-80d8-b3fd1640b189",
   "metadata": {},
   "source": [
    "## Understanding ESG"
   ]
  },
  {
   "cell_type": "markdown",
   "id": "129f66da-76bd-4d28-a9b9-412fefa2d2f9",
   "metadata": {
    "tags": []
   },
   "source": [
    "### What is an ESG index ?"
   ]
  },
  {
   "cell_type": "markdown",
   "id": "942d03c1-8cb0-415a-90cd-c3d16c5f2ea4",
   "metadata": {},
   "source": [
    "The ESG, or Environmental, Social and Governance, index aims to assess a company, an organization or a country's practices. As early as the 1960s, investors began to exclude from their portfolio certain company that didn't follow evironement or ethical guidelines. Today, with climate deterioration, more and more investors embrace the use of a ESG index to guide their investments.\n",
    "\n",
    "For example, when ESG indexes were first mention at the UN Principles for Responsible Investment (PRI) in 2006 only 63 investements company (representing \\\\$6.5 trillion in asset under management) had included an ESG in their financial report. In 2020, 2450 company (\\\\$80 trillion in AUM) have adopted this practice. \n",
    "\n",
    "Futhermore, some reasearch have shown that ESG index could be link with investement return, firm value and profitability. Those results indicate how robust ESG index is crucial in understanding a company's well-being. "
   ]
  },
  {
   "cell_type": "markdown",
   "id": "ffd91465-d5f5-4b44-bed7-b5bffc65e4ef",
   "metadata": {},
   "source": [
    "### How to build an ESG index"
   ]
  },
  {
   "cell_type": "markdown",
   "id": "e832d22c-0ba4-4642-b8de-a0d4376caad9",
   "metadata": {},
   "source": [
    "As the importance of ESG indexing became clear, many companies started to developpe their own ranking to be used by investors and asset managers. Of the many ESG available, MSCI ESG Indices, S&P 500 ESG Index, FTSE4Good Index Series are among the most renounded. \n",
    "\n",
    "Each ESG Index must be developped by keeping in mind the three pillars of ESG : \n",
    "\n",
    "* Environmental\n",
    "    * Energy use\n",
    "    * Waste production\n",
    "    * Greenhouse gas emissions\n",
    "    * Carbon footprint\n",
    "* Social\n",
    "    * Workplace health and safety\n",
    "    * Equal employemnent opportunity\n",
    "    * Fair pay\n",
    "    * Community engagement\n",
    "* Governance\n",
    "    * Ethical business practices\n",
    "    * Accounting integrity and transparency\n",
    "    * Corporate governance\n",
    "    * Avoiding conflicts of interest\n",
    "    \n",
    "Most of the popular ESG indices are based upon those principles, the differences in them is the variables and the weight attributed to them. They can differ by the data used wich are often public and/or private corporate, sector or country data."
   ]
  },
  {
   "cell_type": "markdown",
   "id": "aabd6806-799a-4be9-a0a5-8459921b5b5d",
   "metadata": {},
   "source": [
    "### Different scale of ESG"
   ]
  },
  {
   "cell_type": "markdown",
   "id": "8e64c0c3-ea40-40e0-ad85-54554d8418ec",
   "metadata": {},
   "source": [
    "Even if their bare the same name and have the same scope, evalutating environmental, social and governance practices and performance, company and country ESG differs by the means and the indicators used to developpe the score.\n",
    "\n",
    "At a company level, the environnemental score will be assess by analysing carbon emissions, waste management wherease at a country level this will not be possible so it'll be assess using funds allocated to environemental policies, climate change mitigation efforts for example. For the social aspect of the index, human rights records, educational funds will be analyse for a country as oposed to employee diversity, workplace health for a company. As for governance, ethics and transparency will be key for a company while political stability and corruption levels will be used for a country\n",
    "\n",
    "In the end, the aim is to provide an index useful for investors but at a different scale."
   ]
  },
  {
   "cell_type": "markdown",
   "id": "45a5715c-ca7e-4dcd-b881-5baf408a4cc4",
   "metadata": {},
   "source": [
    "## Computing the Environmental Score"
   ]
  },
  {
   "cell_type": "code",
   "execution_count": null,
   "id": "767eb170-d794-45e7-be6a-bd04487ecbca",
   "metadata": {},
   "outputs": [],
   "source": []
  }
 ],
 "metadata": {
  "kernelspec": {
   "display_name": "Python 3 (ipykernel)",
   "language": "python",
   "name": "python3"
  },
  "language_info": {
   "codemirror_mode": {
    "name": "ipython",
    "version": 3
   },
   "file_extension": ".py",
   "mimetype": "text/x-python",
   "name": "python",
   "nbconvert_exporter": "python",
   "pygments_lexer": "ipython3",
   "version": "3.10.9"
  }
 },
 "nbformat": 4,
 "nbformat_minor": 5
}
